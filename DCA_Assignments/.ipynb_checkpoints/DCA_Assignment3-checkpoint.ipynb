{
 "cells": [
  {
   "cell_type": "markdown",
   "metadata": {},
   "source": [
    "Development\n",
    "1. Implement a parameterizable FIR filter object, providing:\n",
    "an __init__ method that allows to specify:\n",
    "fixed or floating point data representation,\n",
    "\twith their corresponding bit length parameters\n",
    "(you will have to use pyfixedpoint to limit the precision to the chosen representation)\n",
    "an array of filter weights\n",
    "an apply method that takes as input an arbitrary long array of samples (longer that the array of weights) and outputs the result of applying the FIR filter to it.\n",
    "\n",
    "2. We will use the 4 floating point configurations obtained in research question #2 and run simulations of FIR filter under those settings.\n",
    "You have to reuse the lowpass FIR-filter provided in fir_filter.py and use your implementation to ensure that the required data representations are used. Generate a random input of 300 samples and use the same for all experiments.\n",
    "Create an additional FIR filter with no data restrictions (arbitrary precision). We will use it to measure the error of the other implementations.\n",
    "\n",
    "3. For each of the created FIR filters, generate an array showing the relative error of each output sample when compared to the arbitrary precision case.\n",
    "\n",
    "4. Using the data from the previous step, generate error plots using matplotlib."
   ]
  },
  {
   "cell_type": "code",
   "execution_count": 3,
   "metadata": {
    "collapsed": false
   },
   "outputs": [],
   "source": [
    "# Imports\n",
    "from numpy import cos, sin, pi, absolute, arange\n",
    "from scipy.signal import kaiserord, lfilter, firwin, freqz\n",
    "from pylab import figure, clf, plot, xlabel, ylabel, xlim, ylim, title, grid, axes, show\n",
    "from random import randrange, uniform"
   ]
  },
  {
   "cell_type": "markdown",
   "metadata": {},
   "source": [
    "# Creating Random Signal"
   ]
  },
  {
   "cell_type": "code",
   "execution_count": 4,
   "metadata": {
    "collapsed": false
   },
   "outputs": [
    {
     "name": "stdout",
     "output_type": "stream",
     "text": [
      "0.992677422298 0.329153366324 0.388125509788 0.432980877104\n"
     ]
    }
   ],
   "source": [
    "sample_rate = 100.0\n",
    "nsamples = 300\n",
    "A1 = uniform(0,1); B1 = uniform(0,1); C1 = uniform(0,1); D1 = uniform(0,1)\n",
    "t = arange(nsamples) / sample_rate\n",
    "x = cos(2*pi*0.5*t) + A1*sin(2*pi*2.5*t+0.1) + \\\n",
    "        B1*sin(2*pi*15.3*t) + C1*sin(2*pi*16.7*t + 0.1) + \\\n",
    "            D1*sin(2*pi*23.45*t+.8)\n",
    "print A1,B1,C1,D1"
   ]
  },
  {
   "cell_type": "markdown",
   "metadata": {},
   "source": [
    "# Creating FIR filter"
   ]
  },
  {
   "cell_type": "code",
   "execution_count": 8,
   "metadata": {
    "collapsed": false
   },
   "outputs": [
    {
     "name": "stdout",
     "output_type": "stream",
     "text": [
      "74\n"
     ]
    }
   ],
   "source": [
    "nyq_rate = sample_rate / 2.0\n",
    "width = 5.0 / nyq_rate\n",
    "ripple_db = 60.0 #desired attenuation\n",
    "N, beta = kaiserord(ripple_db, width) #order and Kaiser parameter\n",
    "cutoff_hz = 10 #cutoff frequency\n",
    "taps = firwin(N, cutoff_hz/nyq_rate, window=('kaiser', beta)) #creating filter\n",
    "filtered_x = lfilter(taps,1.0,x)\n"
   ]
  },
  {
   "cell_type": "markdown",
   "metadata": {},
   "source": [
    "# Plotting"
   ]
  },
  {
   "cell_type": "code",
   "execution_count": 5,
   "metadata": {
    "collapsed": false
   },
   "outputs": [],
   "source": [
    "# Plot the FIR filter coefficients.\n",
    "\n",
    "figure(1)\n",
    "plot(taps, 'bo-', linewidth=2)\n",
    "title('Filter Coefficients (%d taps)' % N)\n",
    "grid(True)\n",
    "show()"
   ]
  },
  {
   "cell_type": "code",
   "execution_count": 26,
   "metadata": {
    "collapsed": true
   },
   "outputs": [],
   "source": [
    "# Plot the magnitude response of the filter.\n",
    "\n",
    "figure(2)\n",
    "clf()\n",
    "w, h = freqz(taps, worN=8000)\n",
    "plot((w/pi)*nyq_rate, absolute(h), linewidth=2)\n",
    "xlabel('Frequency (Hz)')\n",
    "ylabel('Gain')\n",
    "title('Frequency Response')\n",
    "ylim(-0.05, 1.05)\n",
    "grid(True)\n",
    "\n",
    "# Upper inset plot.\n",
    "ax1 = axes([0.42, 0.6, .45, .25])\n",
    "plot((w/pi)*nyq_rate, absolute(h), linewidth=2)\n",
    "xlim(0,8.0)\n",
    "ylim(0.9985, 1.001)\n",
    "grid(True)\n",
    "\n",
    "# Lower inset plot\n",
    "ax2 = axes([0.42, 0.25, .45, .25])\n",
    "plot((w/pi)*nyq_rate, absolute(h), linewidth=2)\n",
    "xlim(12.0, 20.0)\n",
    "ylim(0.0, 0.0025)\n",
    "grid(True)"
   ]
  },
  {
   "cell_type": "code",
   "execution_count": 45,
   "metadata": {
    "collapsed": true
   },
   "outputs": [],
   "source": [
    "# Plot the original and filtered signals.\n",
    "\n",
    "# The phase delay of the filtered signal.\n",
    "delay = 0.5 * (N-1) / sample_rate\n",
    "\n",
    "figure(3)\n",
    "# Plot the original signal.\n",
    "plot(t, x)\n",
    "# Plot the filtered signal, shifted to compensate for the phase delay.\n",
    "plot(t-delay, filtered_x, 'r-')\n",
    "# Plot just the \"good\" part of the filtered signal.  The first N-1\n",
    "# samples are \"corrupted\" by the initial conditions.\n",
    "plot(t[N-1:]-delay, filtered_x[N-1:], 'g', linewidth=4)\n",
    "\n",
    "xlabel('t')\n",
    "grid(True)\n",
    "\n",
    "show()"
   ]
  },
  {
   "cell_type": "code",
   "execution_count": null,
   "metadata": {
    "collapsed": true
   },
   "outputs": [],
   "source": []
  }
 ],
 "metadata": {
  "kernelspec": {
   "display_name": "Python [Root]",
   "language": "python",
   "name": "Python [Root]"
  },
  "language_info": {
   "codemirror_mode": {
    "name": "ipython",
    "version": 2
   },
   "file_extension": ".py",
   "mimetype": "text/x-python",
   "name": "python",
   "nbconvert_exporter": "python",
   "pygments_lexer": "ipython2",
   "version": "2.7.12"
  }
 },
 "nbformat": 4,
 "nbformat_minor": 0
}
