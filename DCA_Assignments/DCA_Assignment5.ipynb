{
 "cells": [
  {
   "cell_type": "code",
   "execution_count": 1,
   "metadata": {
    "collapsed": false
   },
   "outputs": [],
   "source": [
    "#Imports\n",
    "import json\n",
    "import time\n",
    "import datetime\n",
    "import time\n",
    "import os\n",
    "import dateutil.parser\n",
    "import numpy as np\n",
    "import multiprocessing as mp\n",
    "import redis\n",
    "import string\n",
    "import collections\n",
    "from IPython.core import display\n",
    "from Queue import Empty\n",
    "import itertools\n",
    "import twitter\n",
    "import re"
   ]
  },
  {
   "cell_type": "code",
   "execution_count": 2,
   "metadata": {
    "collapsed": false
   },
   "outputs": [],
   "source": [
    "#Obtaining Twitter stream with API keys\n",
    "twitter_stream = twitter.TwitterStream(auth=twitter.OAuth(\n",
    "token=\"304565489-yP9AWplxhW4MfspjsoONJ7dDcf6yWLUgc35Ha0Eh\",\n",
    "token_secret=\"serbdMPy4Vus6yASU2vVFPRCnntQkjijdMXMR6ukTbxH0\",\n",
    "consumer_key=\"L4bgPj1Gr9zDD4WVf3Z8z90Xf\",\n",
    "consumer_secret=\"ZKJgbXJ4fa1gcLg9CVjIx0VV7FDRtFgL8eXzZJxjnlx16Gx034\"))\n",
    "stream = twitter_stream.statuses.sample()"
   ]
  },
  {
   "cell_type": "code",
   "execution_count": 3,
   "metadata": {
    "collapsed": false
   },
   "outputs": [],
   "source": [
    "#Obtaining variables of interest\n",
    "class Tweet(dict):\n",
    "    def __init__(self, raw_tweet):\n",
    "        super(Tweet, self).__init__(self)\n",
    "        if raw_tweet and 'delete' not in raw_tweet:\n",
    "#             self['timestamp'] = dateutil.parser.parse(raw_tweet[u'created_at']\n",
    "#                                 ).replace(tzinfo=None).isoformat()\n",
    "            self['text'] = raw_tweet['text']\n",
    "            self['hashtags'] = [x['text'] for x in raw_tweet['entities']['hashtags']]\n",
    "            self['geo'] = raw_tweet['geo']['coordinates'] if raw_tweet['geo'] else None\n",
    "            self['id'] = raw_tweet['id']\n",
    "            self['screen_name'] = raw_tweet['user']['screen_name']\n",
    "            self['user_id'] = raw_tweet['user']['id'] \n",
    "            \n",
    "#Dumping empty tweets (i.e. deleted tweets)\n",
    "if True:\n",
    "    T = None\n",
    "    while not T:\n",
    "        T = Tweet(stream.next())\n",
    "else:\n",
    "    T = Tweet(json.load(open('one_tweet.json')))"
   ]
  },
  {
   "cell_type": "markdown",
   "metadata": {},
   "source": [
    "**Method 1**: Percentage of tweets mentioning \"yes\" during 2 minutes, from all tweets without restrictions.\n",
    "\n",
    "**Method 2**: Percentage of tweets mentioning \"bye\" during 2 minutes, sliding window over 300 tweets.\n",
    "\n",
    "**Method 3**: Percentage of tweets mentioning \"hi\" during 2 minutes, using a buffer of 100 tweets.\n",
    "\n",
    "**Method 4**: Percentage of tweets mentioning \"no\" during 2 minutes, sampling once every 100 tweets."
   ]
  },
  {
   "cell_type": "code",
   "execution_count": null,
   "metadata": {
    "collapsed": false
   },
   "outputs": [],
   "source": [
    "class Query:\n",
    "    def __init__(self,Method):\n",
    "        self.method = Method\n",
    "    \n",
    "    def apply(self):\n",
    "        self.Method()\n",
    "    \n",
    "    def Method(self,method):\n",
    "        if (method == 1):\n",
    "            self.Unrestricted()\n",
    "        if (method == 2):\n",
    "            self.Sliding()\n",
    "        if (method == 3):\n",
    "            self.Batching()\n",
    "        if (method == 4):\n",
    "            self.Sampling()\n",
    "            \n",
    "    def Unrestricted(self):\n",
    "        keyword = \"yes\"\n",
    "        Count = 100\n",
    "        return Count\n",
    "\n",
    "    def Sliding(self):\n",
    "        keyword = \"bye\"\n",
    "        return Count\n",
    "\n",
    "    def Batching(self):\n",
    "        keyword = \"hi\"\n",
    "        return Count\n",
    "\n",
    "    def Sampling(self):\n",
    "        keyword = \"no\"\n",
    "        return Count"
   ]
  },
  {
   "cell_type": "code",
   "execution_count": 4,
   "metadata": {
    "collapsed": false
   },
   "outputs": [
    {
     "ename": "KeyError",
     "evalue": "'text'",
     "output_type": "error",
     "traceback": [
      "\u001b[1;31m---------------------------------------------------------------------------\u001b[0m",
      "\u001b[1;31mKeyError\u001b[0m                                  Traceback (most recent call last)",
      "\u001b[1;32m<ipython-input-4-039a5a7257a8>\u001b[0m in \u001b[0;36m<module>\u001b[1;34m()\u001b[0m\n\u001b[0;32m      6\u001b[0m \u001b[1;33m\u001b[0m\u001b[0m\n\u001b[0;32m      7\u001b[0m \u001b[1;32mfor\u001b[0m \u001b[0mi\u001b[0m \u001b[1;32min\u001b[0m \u001b[0mrange\u001b[0m\u001b[1;33m(\u001b[0m\u001b[1;36m10001\u001b[0m\u001b[1;33m)\u001b[0m\u001b[1;33m:\u001b[0m\u001b[1;33m\u001b[0m\u001b[0m\n\u001b[1;32m----> 8\u001b[1;33m     \u001b[0mT\u001b[0m \u001b[1;33m=\u001b[0m \u001b[0mTweet\u001b[0m\u001b[1;33m(\u001b[0m\u001b[0mstream\u001b[0m\u001b[1;33m.\u001b[0m\u001b[0mnext\u001b[0m\u001b[1;33m(\u001b[0m\u001b[1;33m)\u001b[0m\u001b[1;33m)\u001b[0m\u001b[1;33m\u001b[0m\u001b[0m\n\u001b[0m\u001b[0;32m      9\u001b[0m     \u001b[1;32mif\u001b[0m \u001b[0mT\u001b[0m\u001b[1;33m:\u001b[0m\u001b[1;33m\u001b[0m\u001b[0m\n\u001b[0;32m     10\u001b[0m         \u001b[1;32mif\u001b[0m \u001b[0mKeyword\u001b[0m \u001b[1;32min\u001b[0m \u001b[0mT\u001b[0m\u001b[1;33m[\u001b[0m\u001b[1;34m'text'\u001b[0m\u001b[1;33m]\u001b[0m\u001b[1;33m:\u001b[0m\u001b[1;33m\u001b[0m\u001b[0m\n",
      "\u001b[1;32m<ipython-input-3-d2d82fd1791c>\u001b[0m in \u001b[0;36m__init__\u001b[1;34m(self, raw_tweet)\u001b[0m\n\u001b[0;32m      6\u001b[0m \u001b[1;31m#             self['timestamp'] = dateutil.parser.parse(raw_tweet[u'created_at']\u001b[0m\u001b[1;33m\u001b[0m\u001b[1;33m\u001b[0m\u001b[0m\n\u001b[0;32m      7\u001b[0m \u001b[1;31m#                                 ).replace(tzinfo=None).isoformat()\u001b[0m\u001b[1;33m\u001b[0m\u001b[1;33m\u001b[0m\u001b[0m\n\u001b[1;32m----> 8\u001b[1;33m             \u001b[0mself\u001b[0m\u001b[1;33m[\u001b[0m\u001b[1;34m'text'\u001b[0m\u001b[1;33m]\u001b[0m \u001b[1;33m=\u001b[0m \u001b[0mraw_tweet\u001b[0m\u001b[1;33m[\u001b[0m\u001b[1;34m'text'\u001b[0m\u001b[1;33m]\u001b[0m\u001b[1;33m\u001b[0m\u001b[0m\n\u001b[0m\u001b[0;32m      9\u001b[0m             \u001b[0mself\u001b[0m\u001b[1;33m[\u001b[0m\u001b[1;34m'hashtags'\u001b[0m\u001b[1;33m]\u001b[0m \u001b[1;33m=\u001b[0m \u001b[1;33m[\u001b[0m\u001b[0mx\u001b[0m\u001b[1;33m[\u001b[0m\u001b[1;34m'text'\u001b[0m\u001b[1;33m]\u001b[0m \u001b[1;32mfor\u001b[0m \u001b[0mx\u001b[0m \u001b[1;32min\u001b[0m \u001b[0mraw_tweet\u001b[0m\u001b[1;33m[\u001b[0m\u001b[1;34m'entities'\u001b[0m\u001b[1;33m]\u001b[0m\u001b[1;33m[\u001b[0m\u001b[1;34m'hashtags'\u001b[0m\u001b[1;33m]\u001b[0m\u001b[1;33m]\u001b[0m\u001b[1;33m\u001b[0m\u001b[0m\n\u001b[0;32m     10\u001b[0m             \u001b[0mself\u001b[0m\u001b[1;33m[\u001b[0m\u001b[1;34m'geo'\u001b[0m\u001b[1;33m]\u001b[0m \u001b[1;33m=\u001b[0m \u001b[0mraw_tweet\u001b[0m\u001b[1;33m[\u001b[0m\u001b[1;34m'geo'\u001b[0m\u001b[1;33m]\u001b[0m\u001b[1;33m[\u001b[0m\u001b[1;34m'coordinates'\u001b[0m\u001b[1;33m]\u001b[0m \u001b[1;32mif\u001b[0m \u001b[0mraw_tweet\u001b[0m\u001b[1;33m[\u001b[0m\u001b[1;34m'geo'\u001b[0m\u001b[1;33m]\u001b[0m \u001b[1;32melse\u001b[0m \u001b[0mNone\u001b[0m\u001b[1;33m\u001b[0m\u001b[0m\n",
      "\u001b[1;31mKeyError\u001b[0m: 'text'"
     ]
    }
   ],
   "source": [
    "# 700k tweets per 2 minutes\n",
    "# Unrestricted\n",
    "\n",
    "Keyword = 'yes'\n",
    "Count = 0.0\n",
    "\n",
    "for i in range(10001):\n",
    "    T = Tweet(stream.next())\n",
    "    if T:\n",
    "        if Keyword in T['text']:\n",
    "            Count = Count+1\n",
    "            \n",
    "print 'Total tweets mentioning',Keyword,':',Count\n",
    "print 'Total tweets checked',\":\", i\n",
    "print 'Percentage of tweets mentioning',Keyword,':',(Count/i)*100.0,'%'"
   ]
  },
  {
   "cell_type": "code",
   "execution_count": null,
   "metadata": {
    "collapsed": false
   },
   "outputs": [],
   "source": [
    "#Sliding Window\n",
    "Keyword = \"bye\"\n",
    "Count = 0.0\n",
    "n = 3\n",
    "winSize = 3\n",
    "step = 1\n",
    "\n",
    "for i in range(1001):\n",
    "    sequence = T\n",
    "    numOfChunks = ((len(sequence)-winSize)/step)+1\n",
    "    T = Tweet(stream.next())\n",
    "    NumOfChunks = ((i-3)/1)+1\n",
    "    for j in range(0,numOfChunks*step,step):\n",
    "        if T:\n",
    "            if Keyword in T['text']:\n",
    "                Count = Count+1\n",
    "\n",
    "print 'Total tweets mentioning',Keyword,':',Count\n",
    "print 'Total tweets checked',\":\", i\n",
    "print 'Percentage of tweets mentioning',Keyword,':',(Count/i)*100,'%'"
   ]
  },
  {
   "cell_type": "code",
   "execution_count": null,
   "metadata": {
    "collapsed": false
   },
   "outputs": [],
   "source": [
    "# Batching\n",
    "keyword = \"hi\"\n",
    "Count = 0.0\n",
    "\n",
    "for i in range(101):\n",
    "    T = Tweet(stream.next())\n",
    "    if T:\n",
    "#         print T['text']\n",
    "        if Keyword in T['text']:\n",
    "            Count = Count+1\n",
    "print 'Total tweets mentioning',Keyword,':',Count\n",
    "print 'Total tweets checked',\":\", i\n",
    "print 'Percentage of tweets mentioning',Keyword,':',(Count/i)*100,'%'"
   ]
  },
  {
   "cell_type": "code",
   "execution_count": null,
   "metadata": {
    "collapsed": false
   },
   "outputs": [],
   "source": [
    "#Sampling\n",
    "keyword = \"no\"\n",
    "Count = 0.0\n",
    "\n",
    "for i in range(101):\n",
    "    T = Tweet(stream.next())\n",
    "    if T:\n",
    "#         print T['text']\n",
    "        if Keyword in T['text']:\n",
    "            Count = Count+1\n",
    "print 'Total tweets mentioning',Keyword,':',Count\n",
    "print 'Total tweets checked',\":\", i\n",
    "print 'Percentage of tweets mentioning',Keyword,':',(Count/i)*100,'%'"
   ]
  },
  {
   "cell_type": "markdown",
   "metadata": {},
   "source": [
    "# Goal\n",
    "Start stream, start counting tweets\n",
    "\n",
    "For tweet nr 100, check whether 'no'  is present -> count +1\n",
    "\n",
    "Repeat for each 100th tweet\n",
    "\n"
   ]
  },
  {
   "cell_type": "code",
   "execution_count": null,
   "metadata": {
    "collapsed": true
   },
   "outputs": [],
   "source": []
  }
 ],
 "metadata": {
  "kernelspec": {
   "display_name": "Python [Root]",
   "language": "python",
   "name": "Python [Root]"
  },
  "language_info": {
   "codemirror_mode": {
    "name": "ipython",
    "version": 2
   },
   "file_extension": ".py",
   "mimetype": "text/x-python",
   "name": "python",
   "nbconvert_exporter": "python",
   "pygments_lexer": "ipython2",
   "version": "2.7.12"
  }
 },
 "nbformat": 4,
 "nbformat_minor": 0
}
